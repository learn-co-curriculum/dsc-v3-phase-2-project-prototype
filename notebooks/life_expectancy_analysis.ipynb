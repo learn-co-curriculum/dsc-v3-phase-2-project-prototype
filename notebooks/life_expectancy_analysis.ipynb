{
 "cells": [
  {
   "cell_type": "markdown",
   "metadata": {},
   "source": [
    "# Life Expectancy Analysis\n",
    "\n",
    "Erin Hoffman\n",
    "\n",
    "This dataset was downloaded from [Kaggle](https://www.kaggle.com/kumarajarshi/life-expectancy-who) and reflects data collected by the WHO about life expectancy and potentially-related factors.  The information is aggregated on a per-country per-year basis.\n",
    "\n",
    "The following questions have been posed `[citation needed]`:\n",
    "\n",
    "1. Do countries with a lower life expectancy value (<65) have lower schooling?\n",
    "2. How does Infant and Adult mortality rates affect life expectancy?\n",
    "3. Does Life Expectancy has positive or negative correlation with eating habits, lifestyle, exercise, smoking, drinking alcohol etc.\n",
    "4. What is the impact of schooling on the lifespan of humans?\n",
    "5. Does Life Expectancy have positive or negative relationship with drinking alcohol?\n",
    "6. Do densely populated countries tend to have lower life expectancy?\n",
    "7. What is the impact of Immunization coverage on life Expectancy?\n",
    "\n",
    "## Importing the Data"
   ]
  },
  {
   "cell_type": "code",
   "execution_count": 1,
   "metadata": {},
   "outputs": [],
   "source": [
    "import os\n",
    "\n",
    "import pandas as pd\n",
    "import numpy as np\n",
    "\n",
    "import matplotlib.patches as mpatches\n",
    "import matplotlib.pyplot as plt\n",
    "import seaborn as sns\n",
    "\n",
    "import scipy.stats as stats"
   ]
  },
  {
   "cell_type": "code",
   "execution_count": 2,
   "metadata": {},
   "outputs": [],
   "source": [
    "df = pd.read_csv(os.path.join(os.pardir, \"data\", \"life_expectancy.csv\"))"
   ]
  },
  {
   "cell_type": "code",
   "execution_count": 3,
   "metadata": {},
   "outputs": [
    {
     "data": {
      "text/html": [
       "<div>\n",
       "<style scoped>\n",
       "    .dataframe tbody tr th:only-of-type {\n",
       "        vertical-align: middle;\n",
       "    }\n",
       "\n",
       "    .dataframe tbody tr th {\n",
       "        vertical-align: top;\n",
       "    }\n",
       "\n",
       "    .dataframe thead th {\n",
       "        text-align: right;\n",
       "    }\n",
       "</style>\n",
       "<table border=\"1\" class=\"dataframe\">\n",
       "  <thead>\n",
       "    <tr style=\"text-align: right;\">\n",
       "      <th></th>\n",
       "      <th>Country</th>\n",
       "      <th>Year</th>\n",
       "      <th>Status</th>\n",
       "      <th>Life expectancy</th>\n",
       "      <th>Adult Mortality</th>\n",
       "      <th>infant deaths</th>\n",
       "      <th>Alcohol</th>\n",
       "      <th>percentage expenditure</th>\n",
       "      <th>Hepatitis B</th>\n",
       "      <th>Measles</th>\n",
       "      <th>...</th>\n",
       "      <th>Polio</th>\n",
       "      <th>Total expenditure</th>\n",
       "      <th>Diphtheria</th>\n",
       "      <th>HIV/AIDS</th>\n",
       "      <th>GDP</th>\n",
       "      <th>Population</th>\n",
       "      <th>thinness  1-19 years</th>\n",
       "      <th>thinness 5-9 years</th>\n",
       "      <th>Income composition of resources</th>\n",
       "      <th>Schooling</th>\n",
       "    </tr>\n",
       "  </thead>\n",
       "  <tbody>\n",
       "    <tr>\n",
       "      <th>0</th>\n",
       "      <td>Afghanistan</td>\n",
       "      <td>2015</td>\n",
       "      <td>Developing</td>\n",
       "      <td>65.0</td>\n",
       "      <td>263.0</td>\n",
       "      <td>62</td>\n",
       "      <td>0.01</td>\n",
       "      <td>71.279624</td>\n",
       "      <td>65.0</td>\n",
       "      <td>1154</td>\n",
       "      <td>...</td>\n",
       "      <td>6.0</td>\n",
       "      <td>8.16</td>\n",
       "      <td>65.0</td>\n",
       "      <td>0.1</td>\n",
       "      <td>584.259210</td>\n",
       "      <td>33736494.0</td>\n",
       "      <td>17.2</td>\n",
       "      <td>17.3</td>\n",
       "      <td>0.479</td>\n",
       "      <td>10.1</td>\n",
       "    </tr>\n",
       "    <tr>\n",
       "      <th>1</th>\n",
       "      <td>Afghanistan</td>\n",
       "      <td>2014</td>\n",
       "      <td>Developing</td>\n",
       "      <td>59.9</td>\n",
       "      <td>271.0</td>\n",
       "      <td>64</td>\n",
       "      <td>0.01</td>\n",
       "      <td>73.523582</td>\n",
       "      <td>62.0</td>\n",
       "      <td>492</td>\n",
       "      <td>...</td>\n",
       "      <td>58.0</td>\n",
       "      <td>8.18</td>\n",
       "      <td>62.0</td>\n",
       "      <td>0.1</td>\n",
       "      <td>612.696514</td>\n",
       "      <td>327582.0</td>\n",
       "      <td>17.5</td>\n",
       "      <td>17.5</td>\n",
       "      <td>0.476</td>\n",
       "      <td>10.0</td>\n",
       "    </tr>\n",
       "    <tr>\n",
       "      <th>2</th>\n",
       "      <td>Afghanistan</td>\n",
       "      <td>2013</td>\n",
       "      <td>Developing</td>\n",
       "      <td>59.9</td>\n",
       "      <td>268.0</td>\n",
       "      <td>66</td>\n",
       "      <td>0.01</td>\n",
       "      <td>73.219243</td>\n",
       "      <td>64.0</td>\n",
       "      <td>430</td>\n",
       "      <td>...</td>\n",
       "      <td>62.0</td>\n",
       "      <td>8.13</td>\n",
       "      <td>64.0</td>\n",
       "      <td>0.1</td>\n",
       "      <td>631.744976</td>\n",
       "      <td>31731688.0</td>\n",
       "      <td>17.7</td>\n",
       "      <td>17.7</td>\n",
       "      <td>0.470</td>\n",
       "      <td>9.9</td>\n",
       "    </tr>\n",
       "    <tr>\n",
       "      <th>3</th>\n",
       "      <td>Afghanistan</td>\n",
       "      <td>2012</td>\n",
       "      <td>Developing</td>\n",
       "      <td>59.5</td>\n",
       "      <td>272.0</td>\n",
       "      <td>69</td>\n",
       "      <td>0.01</td>\n",
       "      <td>78.184215</td>\n",
       "      <td>67.0</td>\n",
       "      <td>2787</td>\n",
       "      <td>...</td>\n",
       "      <td>67.0</td>\n",
       "      <td>8.52</td>\n",
       "      <td>67.0</td>\n",
       "      <td>0.1</td>\n",
       "      <td>669.959000</td>\n",
       "      <td>3696958.0</td>\n",
       "      <td>17.9</td>\n",
       "      <td>18.0</td>\n",
       "      <td>0.463</td>\n",
       "      <td>9.8</td>\n",
       "    </tr>\n",
       "    <tr>\n",
       "      <th>4</th>\n",
       "      <td>Afghanistan</td>\n",
       "      <td>2011</td>\n",
       "      <td>Developing</td>\n",
       "      <td>59.2</td>\n",
       "      <td>275.0</td>\n",
       "      <td>71</td>\n",
       "      <td>0.01</td>\n",
       "      <td>7.097109</td>\n",
       "      <td>68.0</td>\n",
       "      <td>3013</td>\n",
       "      <td>...</td>\n",
       "      <td>68.0</td>\n",
       "      <td>7.87</td>\n",
       "      <td>68.0</td>\n",
       "      <td>0.1</td>\n",
       "      <td>63.537231</td>\n",
       "      <td>2978599.0</td>\n",
       "      <td>18.2</td>\n",
       "      <td>18.2</td>\n",
       "      <td>0.454</td>\n",
       "      <td>9.5</td>\n",
       "    </tr>\n",
       "  </tbody>\n",
       "</table>\n",
       "<p>5 rows × 22 columns</p>\n",
       "</div>"
      ],
      "text/plain": [
       "       Country  Year      Status  Life expectancy   Adult Mortality  \\\n",
       "0  Afghanistan  2015  Developing              65.0            263.0   \n",
       "1  Afghanistan  2014  Developing              59.9            271.0   \n",
       "2  Afghanistan  2013  Developing              59.9            268.0   \n",
       "3  Afghanistan  2012  Developing              59.5            272.0   \n",
       "4  Afghanistan  2011  Developing              59.2            275.0   \n",
       "\n",
       "   infant deaths  Alcohol  percentage expenditure  Hepatitis B  Measles   ...  \\\n",
       "0             62     0.01               71.279624         65.0      1154  ...   \n",
       "1             64     0.01               73.523582         62.0       492  ...   \n",
       "2             66     0.01               73.219243         64.0       430  ...   \n",
       "3             69     0.01               78.184215         67.0      2787  ...   \n",
       "4             71     0.01                7.097109         68.0      3013  ...   \n",
       "\n",
       "   Polio  Total expenditure  Diphtheria    HIV/AIDS         GDP  Population  \\\n",
       "0    6.0               8.16         65.0        0.1  584.259210  33736494.0   \n",
       "1   58.0               8.18         62.0        0.1  612.696514    327582.0   \n",
       "2   62.0               8.13         64.0        0.1  631.744976  31731688.0   \n",
       "3   67.0               8.52         67.0        0.1  669.959000   3696958.0   \n",
       "4   68.0               7.87         68.0        0.1   63.537231   2978599.0   \n",
       "\n",
       "    thinness  1-19 years   thinness 5-9 years  \\\n",
       "0                   17.2                 17.3   \n",
       "1                   17.5                 17.5   \n",
       "2                   17.7                 17.7   \n",
       "3                   17.9                 18.0   \n",
       "4                   18.2                 18.2   \n",
       "\n",
       "   Income composition of resources  Schooling  \n",
       "0                            0.479       10.1  \n",
       "1                            0.476       10.0  \n",
       "2                            0.470        9.9  \n",
       "3                            0.463        9.8  \n",
       "4                            0.454        9.5  \n",
       "\n",
       "[5 rows x 22 columns]"
      ]
     },
     "execution_count": 3,
     "metadata": {},
     "output_type": "execute_result"
    }
   ],
   "source": [
    "df.head()"
   ]
  },
  {
   "cell_type": "markdown",
   "metadata": {},
   "source": [
    "## Data Cleaning\n",
    "\n",
    "Currently we have multiple years for the same country, let's limit it to a single year"
   ]
  },
  {
   "cell_type": "code",
   "execution_count": 4,
   "metadata": {},
   "outputs": [
    {
     "data": {
      "text/plain": [
       "2013    193\n",
       "2015    183\n",
       "2011    183\n",
       "2009    183\n",
       "2007    183\n",
       "2005    183\n",
       "2003    183\n",
       "2001    183\n",
       "2014    183\n",
       "2012    183\n",
       "2010    183\n",
       "2008    183\n",
       "2006    183\n",
       "2004    183\n",
       "2002    183\n",
       "2000    183\n",
       "Name: Year, dtype: int64"
      ]
     },
     "execution_count": 4,
     "metadata": {},
     "output_type": "execute_result"
    }
   ],
   "source": [
    "df['Year'].value_counts()"
   ]
  },
  {
   "cell_type": "markdown",
   "metadata": {},
   "source": [
    "Looks like we have the most complete data for 2013, so let's keep that one"
   ]
  },
  {
   "cell_type": "code",
   "execution_count": 5,
   "metadata": {},
   "outputs": [],
   "source": [
    "df = df[df['Year'] == 2013]"
   ]
  },
  {
   "cell_type": "code",
   "execution_count": 6,
   "metadata": {},
   "outputs": [
    {
     "data": {
      "text/plain": [
       "(193, 22)"
      ]
     },
     "execution_count": 6,
     "metadata": {},
     "output_type": "execute_result"
    }
   ],
   "source": [
    "df.shape"
   ]
  },
  {
   "cell_type": "code",
   "execution_count": 7,
   "metadata": {},
   "outputs": [
    {
     "name": "stdout",
     "output_type": "stream",
     "text": [
      "<class 'pandas.core.frame.DataFrame'>\n",
      "Int64Index: 193 entries, 2 to 2924\n",
      "Data columns (total 22 columns):\n",
      " #   Column                           Non-Null Count  Dtype  \n",
      "---  ------                           --------------  -----  \n",
      " 0   Country                          193 non-null    object \n",
      " 1   Year                             193 non-null    int64  \n",
      " 2   Status                           193 non-null    object \n",
      " 3   Life expectancy                  183 non-null    float64\n",
      " 4   Adult Mortality                  183 non-null    float64\n",
      " 5   infant deaths                    193 non-null    int64  \n",
      " 6   Alcohol                          191 non-null    float64\n",
      " 7   percentage expenditure           193 non-null    float64\n",
      " 8   Hepatitis B                      182 non-null    float64\n",
      " 9   Measles                          193 non-null    int64  \n",
      " 10   BMI                             189 non-null    float64\n",
      " 11  under-five deaths                193 non-null    int64  \n",
      " 12  Polio                            193 non-null    float64\n",
      " 13  Total expenditure                191 non-null    float64\n",
      " 14  Diphtheria                       193 non-null    float64\n",
      " 15   HIV/AIDS                        193 non-null    float64\n",
      " 16  GDP                              160 non-null    float64\n",
      " 17  Population                       144 non-null    float64\n",
      " 18   thinness  1-19 years            189 non-null    float64\n",
      " 19   thinness 5-9 years              189 non-null    float64\n",
      " 20  Income composition of resources  176 non-null    float64\n",
      " 21  Schooling                        180 non-null    float64\n",
      "dtypes: float64(16), int64(4), object(2)\n",
      "memory usage: 34.7+ KB\n"
     ]
    }
   ],
   "source": [
    "df.info()"
   ]
  },
  {
   "cell_type": "code",
   "execution_count": 8,
   "metadata": {},
   "outputs": [
    {
     "data": {
      "text/html": [
       "<div>\n",
       "<style scoped>\n",
       "    .dataframe tbody tr th:only-of-type {\n",
       "        vertical-align: middle;\n",
       "    }\n",
       "\n",
       "    .dataframe tbody tr th {\n",
       "        vertical-align: top;\n",
       "    }\n",
       "\n",
       "    .dataframe thead th {\n",
       "        text-align: right;\n",
       "    }\n",
       "</style>\n",
       "<table border=\"1\" class=\"dataframe\">\n",
       "  <thead>\n",
       "    <tr style=\"text-align: right;\">\n",
       "      <th></th>\n",
       "      <th>Year</th>\n",
       "      <th>Life expectancy</th>\n",
       "      <th>Adult Mortality</th>\n",
       "      <th>infant deaths</th>\n",
       "      <th>Alcohol</th>\n",
       "      <th>percentage expenditure</th>\n",
       "      <th>Hepatitis B</th>\n",
       "      <th>Measles</th>\n",
       "      <th>BMI</th>\n",
       "      <th>under-five deaths</th>\n",
       "      <th>Polio</th>\n",
       "      <th>Total expenditure</th>\n",
       "      <th>Diphtheria</th>\n",
       "      <th>HIV/AIDS</th>\n",
       "      <th>GDP</th>\n",
       "      <th>Population</th>\n",
       "      <th>thinness  1-19 years</th>\n",
       "      <th>thinness 5-9 years</th>\n",
       "      <th>Income composition of resources</th>\n",
       "      <th>Schooling</th>\n",
       "    </tr>\n",
       "  </thead>\n",
       "  <tbody>\n",
       "    <tr>\n",
       "      <th>count</th>\n",
       "      <td>193.0</td>\n",
       "      <td>183.000000</td>\n",
       "      <td>183.000000</td>\n",
       "      <td>193.000000</td>\n",
       "      <td>191.000000</td>\n",
       "      <td>193.000000</td>\n",
       "      <td>182.000000</td>\n",
       "      <td>193.000000</td>\n",
       "      <td>189.000000</td>\n",
       "      <td>193.000000</td>\n",
       "      <td>193.000000</td>\n",
       "      <td>191.000000</td>\n",
       "      <td>193.000000</td>\n",
       "      <td>193.000000</td>\n",
       "      <td>160.000000</td>\n",
       "      <td>1.440000e+02</td>\n",
       "      <td>189.000000</td>\n",
       "      <td>189.000000</td>\n",
       "      <td>176.000000</td>\n",
       "      <td>180.000000</td>\n",
       "    </tr>\n",
       "    <tr>\n",
       "      <th>mean</th>\n",
       "      <td>2013.0</td>\n",
       "      <td>71.236066</td>\n",
       "      <td>148.765027</td>\n",
       "      <td>23.968912</td>\n",
       "      <td>3.924450</td>\n",
       "      <td>836.623984</td>\n",
       "      <td>83.148352</td>\n",
       "      <td>1455.150259</td>\n",
       "      <td>42.111640</td>\n",
       "      <td>32.419689</td>\n",
       "      <td>84.642487</td>\n",
       "      <td>6.385026</td>\n",
       "      <td>86.207254</td>\n",
       "      <td>0.744560</td>\n",
       "      <td>8152.675657</td>\n",
       "      <td>1.235609e+07</td>\n",
       "      <td>4.470370</td>\n",
       "      <td>4.425397</td>\n",
       "      <td>0.685648</td>\n",
       "      <td>12.688333</td>\n",
       "    </tr>\n",
       "    <tr>\n",
       "      <th>std</th>\n",
       "      <td>0.0</td>\n",
       "      <td>8.413771</td>\n",
       "      <td>106.673397</td>\n",
       "      <td>88.015086</td>\n",
       "      <td>4.178379</td>\n",
       "      <td>2389.338858</td>\n",
       "      <td>23.877333</td>\n",
       "      <td>7776.893575</td>\n",
       "      <td>21.615409</td>\n",
       "      <td>118.050991</td>\n",
       "      <td>23.293232</td>\n",
       "      <td>2.855698</td>\n",
       "      <td>19.908084</td>\n",
       "      <td>1.572711</td>\n",
       "      <td>16132.043848</td>\n",
       "      <td>2.772130e+07</td>\n",
       "      <td>4.200161</td>\n",
       "      <td>4.128352</td>\n",
       "      <td>0.152495</td>\n",
       "      <td>3.134602</td>\n",
       "    </tr>\n",
       "    <tr>\n",
       "      <th>min</th>\n",
       "      <td>2013.0</td>\n",
       "      <td>49.900000</td>\n",
       "      <td>5.000000</td>\n",
       "      <td>0.000000</td>\n",
       "      <td>0.010000</td>\n",
       "      <td>0.000000</td>\n",
       "      <td>6.000000</td>\n",
       "      <td>0.000000</td>\n",
       "      <td>2.100000</td>\n",
       "      <td>0.000000</td>\n",
       "      <td>3.000000</td>\n",
       "      <td>1.120000</td>\n",
       "      <td>3.000000</td>\n",
       "      <td>0.100000</td>\n",
       "      <td>14.214412</td>\n",
       "      <td>2.920000e+02</td>\n",
       "      <td>0.100000</td>\n",
       "      <td>0.100000</td>\n",
       "      <td>0.341000</td>\n",
       "      <td>0.000000</td>\n",
       "    </tr>\n",
       "    <tr>\n",
       "      <th>25%</th>\n",
       "      <td>2013.0</td>\n",
       "      <td>65.600000</td>\n",
       "      <td>67.500000</td>\n",
       "      <td>0.000000</td>\n",
       "      <td>0.010000</td>\n",
       "      <td>10.666707</td>\n",
       "      <td>81.250000</td>\n",
       "      <td>0.000000</td>\n",
       "      <td>23.200000</td>\n",
       "      <td>0.000000</td>\n",
       "      <td>82.000000</td>\n",
       "      <td>4.420000</td>\n",
       "      <td>83.000000</td>\n",
       "      <td>0.100000</td>\n",
       "      <td>671.860248</td>\n",
       "      <td>2.895338e+05</td>\n",
       "      <td>1.400000</td>\n",
       "      <td>1.400000</td>\n",
       "      <td>0.564500</td>\n",
       "      <td>10.800000</td>\n",
       "    </tr>\n",
       "    <tr>\n",
       "      <th>50%</th>\n",
       "      <td>2013.0</td>\n",
       "      <td>73.200000</td>\n",
       "      <td>135.000000</td>\n",
       "      <td>2.000000</td>\n",
       "      <td>2.410000</td>\n",
       "      <td>97.522115</td>\n",
       "      <td>93.000000</td>\n",
       "      <td>6.000000</td>\n",
       "      <td>48.600000</td>\n",
       "      <td>3.000000</td>\n",
       "      <td>94.000000</td>\n",
       "      <td>5.960000</td>\n",
       "      <td>94.000000</td>\n",
       "      <td>0.100000</td>\n",
       "      <td>2354.253395</td>\n",
       "      <td>1.486308e+06</td>\n",
       "      <td>3.300000</td>\n",
       "      <td>3.300000</td>\n",
       "      <td>0.719500</td>\n",
       "      <td>12.900000</td>\n",
       "    </tr>\n",
       "    <tr>\n",
       "      <th>75%</th>\n",
       "      <td>2013.0</td>\n",
       "      <td>76.700000</td>\n",
       "      <td>219.000000</td>\n",
       "      <td>17.000000</td>\n",
       "      <td>7.505000</td>\n",
       "      <td>594.645310</td>\n",
       "      <td>97.000000</td>\n",
       "      <td>195.000000</td>\n",
       "      <td>59.400000</td>\n",
       "      <td>20.000000</td>\n",
       "      <td>98.000000</td>\n",
       "      <td>7.915000</td>\n",
       "      <td>98.000000</td>\n",
       "      <td>0.400000</td>\n",
       "      <td>6972.002282</td>\n",
       "      <td>1.018180e+07</td>\n",
       "      <td>6.600000</td>\n",
       "      <td>6.600000</td>\n",
       "      <td>0.796000</td>\n",
       "      <td>14.700000</td>\n",
       "    </tr>\n",
       "    <tr>\n",
       "      <th>max</th>\n",
       "      <td>2013.0</td>\n",
       "      <td>87.000000</td>\n",
       "      <td>518.000000</td>\n",
       "      <td>1000.000000</td>\n",
       "      <td>15.040000</td>\n",
       "      <td>19099.045060</td>\n",
       "      <td>99.000000</td>\n",
       "      <td>88381.000000</td>\n",
       "      <td>87.300000</td>\n",
       "      <td>1300.000000</td>\n",
       "      <td>99.000000</td>\n",
       "      <td>17.240000</td>\n",
       "      <td>99.000000</td>\n",
       "      <td>9.800000</td>\n",
       "      <td>113751.850000</td>\n",
       "      <td>1.817126e+08</td>\n",
       "      <td>26.800000</td>\n",
       "      <td>27.500000</td>\n",
       "      <td>0.942000</td>\n",
       "      <td>20.300000</td>\n",
       "    </tr>\n",
       "  </tbody>\n",
       "</table>\n",
       "</div>"
      ],
      "text/plain": [
       "         Year  Life expectancy   Adult Mortality  infant deaths     Alcohol  \\\n",
       "count   193.0        183.000000       183.000000     193.000000  191.000000   \n",
       "mean   2013.0         71.236066       148.765027      23.968912    3.924450   \n",
       "std       0.0          8.413771       106.673397      88.015086    4.178379   \n",
       "min    2013.0         49.900000         5.000000       0.000000    0.010000   \n",
       "25%    2013.0         65.600000        67.500000       0.000000    0.010000   \n",
       "50%    2013.0         73.200000       135.000000       2.000000    2.410000   \n",
       "75%    2013.0         76.700000       219.000000      17.000000    7.505000   \n",
       "max    2013.0         87.000000       518.000000    1000.000000   15.040000   \n",
       "\n",
       "       percentage expenditure  Hepatitis B      Measles         BMI   \\\n",
       "count              193.000000   182.000000    193.000000  189.000000   \n",
       "mean               836.623984    83.148352   1455.150259   42.111640   \n",
       "std               2389.338858    23.877333   7776.893575   21.615409   \n",
       "min                  0.000000     6.000000      0.000000    2.100000   \n",
       "25%                 10.666707    81.250000      0.000000   23.200000   \n",
       "50%                 97.522115    93.000000      6.000000   48.600000   \n",
       "75%                594.645310    97.000000    195.000000   59.400000   \n",
       "max              19099.045060    99.000000  88381.000000   87.300000   \n",
       "\n",
       "       under-five deaths        Polio  Total expenditure  Diphtheria   \\\n",
       "count          193.000000  193.000000         191.000000   193.000000   \n",
       "mean            32.419689   84.642487           6.385026    86.207254   \n",
       "std            118.050991   23.293232           2.855698    19.908084   \n",
       "min              0.000000    3.000000           1.120000     3.000000   \n",
       "25%              0.000000   82.000000           4.420000    83.000000   \n",
       "50%              3.000000   94.000000           5.960000    94.000000   \n",
       "75%             20.000000   98.000000           7.915000    98.000000   \n",
       "max           1300.000000   99.000000          17.240000    99.000000   \n",
       "\n",
       "         HIV/AIDS            GDP    Population   thinness  1-19 years  \\\n",
       "count  193.000000     160.000000  1.440000e+02             189.000000   \n",
       "mean     0.744560    8152.675657  1.235609e+07               4.470370   \n",
       "std      1.572711   16132.043848  2.772130e+07               4.200161   \n",
       "min      0.100000      14.214412  2.920000e+02               0.100000   \n",
       "25%      0.100000     671.860248  2.895338e+05               1.400000   \n",
       "50%      0.100000    2354.253395  1.486308e+06               3.300000   \n",
       "75%      0.400000    6972.002282  1.018180e+07               6.600000   \n",
       "max      9.800000  113751.850000  1.817126e+08              26.800000   \n",
       "\n",
       "        thinness 5-9 years  Income composition of resources   Schooling  \n",
       "count           189.000000                       176.000000  180.000000  \n",
       "mean              4.425397                         0.685648   12.688333  \n",
       "std               4.128352                         0.152495    3.134602  \n",
       "min               0.100000                         0.341000    0.000000  \n",
       "25%               1.400000                         0.564500   10.800000  \n",
       "50%               3.300000                         0.719500   12.900000  \n",
       "75%               6.600000                         0.796000   14.700000  \n",
       "max              27.500000                         0.942000   20.300000  "
      ]
     },
     "execution_count": 8,
     "metadata": {},
     "output_type": "execute_result"
    }
   ],
   "source": [
    "df.describe()"
   ]
  },
  {
   "cell_type": "code",
   "execution_count": 9,
   "metadata": {},
   "outputs": [
    {
     "data": {
      "text/plain": [
       "Index(['Country', 'Year', 'Status', 'Life expectancy ', 'Adult Mortality',\n",
       "       'infant deaths', 'Alcohol', 'percentage expenditure', 'Hepatitis B',\n",
       "       'Measles ', ' BMI ', 'under-five deaths ', 'Polio', 'Total expenditure',\n",
       "       'Diphtheria ', ' HIV/AIDS', 'GDP', 'Population',\n",
       "       ' thinness  1-19 years', ' thinness 5-9 years',\n",
       "       'Income composition of resources', 'Schooling'],\n",
       "      dtype='object')"
      ]
     },
     "execution_count": 9,
     "metadata": {},
     "output_type": "execute_result"
    }
   ],
   "source": [
    "df.columns"
   ]
  },
  {
   "cell_type": "markdown",
   "metadata": {},
   "source": [
    "### Question 1: Does Schooling Impact Whether a Country Has Low Life Expectancy?"
   ]
  },
  {
   "cell_type": "code",
   "execution_count": 10,
   "metadata": {},
   "outputs": [
    {
     "data": {
      "image/png": "[encoded data removed]",
      "text/plain": [
       "<Figure size 432x288 with 1 Axes>"
      ]
     },
     "metadata": {
      "needs_background": "light"
     },
     "output_type": "display_data"
    }
   ],
   "source": [
    "fig, ax = plt.subplots()\n",
    "\n",
    "ax.hist(df['Schooling'])\n",
    "\n",
    "ax.set_xlabel('Average Years of Schooling')\n",
    "ax.set_ylabel('Count')\n",
    "\n",
    "ax.set_title('Distribution of Schooling Across Countries')\n",
    "\n",
    "plt.savefig(os.path.join(os.pardir, \"reports\", \"img\", \"distribution_of_schooling.png\"));"
   ]
  },
  {
   "cell_type": "code",
   "execution_count": 11,
   "metadata": {},
   "outputs": [
    {
     "data": {
      "image/png": "[encoded data removed]",
      "text/plain": [
       "<Figure size 432x288 with 1 Axes>"
      ]
     },
     "metadata": {
      "needs_background": "light"
     },
     "output_type": "display_data"
    }
   ],
   "source": [
    "fig, ax = plt.subplots()\n",
    "\n",
    "ax.scatter(df['Schooling'], df['Life expectancy '])\n",
    "\n",
    "ax.set_xlabel('Average Years of Schooling')\n",
    "ax.set_ylabel('Average Life Expectancy')\n",
    "\n",
    "ax.set_title('Schooling vs. Life Expectancy Across Countries');"
   ]
  },
  {
   "cell_type": "markdown",
   "metadata": {},
   "source": [
    "Overall, this looks like a positive correlation.  What if we define \"low life expectancy\" to mean life expectancy below 65?"
   ]
  },
  {
   "cell_type": "code",
   "execution_count": 12,
   "metadata": {},
   "outputs": [],
   "source": [
    "low_life_expectancy = df[df['Life expectancy '] < 65]\n",
    "high_life_expectancy = df[df['Life expectancy '] >= 65]"
   ]
  },
  {
   "cell_type": "code",
   "execution_count": 13,
   "metadata": {},
   "outputs": [
    {
     "data": {
      "image/png": "[encoded data removed]",
      "text/plain": [
       "<Figure size 432x288 with 1 Axes>"
      ]
     },
     "metadata": {
      "needs_background": "light"
     },
     "output_type": "display_data"
    }
   ],
   "source": [
    "fig, ax = plt.subplots()\n",
    "\n",
    "ax.bar(\n",
    "    x=[\"Low\", \"High\"],\n",
    "    height=[len(low_life_expectancy), len(high_life_expectancy)],\n",
    "    color=[\"orange\", \"blue\"]\n",
    ")\n",
    "\n",
    "ax.set_xlabel(\"Life Expectancy\")\n",
    "ax.set_ylabel(\"Count\")\n",
    "\n",
    "ax.set_title(\"Distribution of Countries with Low vs. High Life Expectancy\")\n",
    "\n",
    "plt.savefig(os.path.join(os.pardir, \"reports\", \"img\", \"life_expectancy.png\"));"
   ]
  },
  {
   "cell_type": "code",
   "execution_count": 14,
   "metadata": {},
   "outputs": [
    {
     "data": {
      "image/png": "[encoded data removed]",
      "text/plain": [
       "<Figure size 432x288 with 1 Axes>"
      ]
     },
     "metadata": {
      "needs_background": "light"
     },
     "output_type": "display_data"
    }
   ],
   "source": [
    "fig, ax = plt.subplots()\n",
    "\n",
    "ax.scatter(low_life_expectancy['Schooling'], low_life_expectancy['Life expectancy '], c=\"orange\")\n",
    "ax.scatter(high_life_expectancy['Schooling'], high_life_expectancy['Life expectancy '], c=\"blue\")\n",
    "\n",
    "ax.set_xlabel('Average Years of Schooling')\n",
    "ax.set_ylabel('Average Life Expectancy')\n",
    "\n",
    "ax.set_title('Schooling vs. Life Expectancy Across Countries')\n",
    "\n",
    "orange_patch = mpatches.Patch(color='orange', label='Low Life Expectancy')\n",
    "blue_patch = mpatches.Patch(color='blue', label='High Life Expectancy')\n",
    "\n",
    "ax.legend(handles=[orange_patch, blue_patch])\n",
    "\n",
    "plt.savefig(os.path.join(os.pardir, \"reports\", \"img\", \"schooling_and_life_expectancy.png\"));"
   ]
  },
  {
   "cell_type": "markdown",
   "metadata": {},
   "source": [
    "### Hypothesis Test\n",
    "\n",
    "#### Null Hypothesis\n",
    "The average years of schooling is the same between low and high life expectancy countries\n",
    "\n",
    "#### Alternative Hypothesis\n",
    "The average years of schooling is not the same between low and high life expectancy countries\n",
    "\n",
    "We will be using an independent t-test to determine whether we can reject the null hypothesis at an alpha of 0.05"
   ]
  },
  {
   "cell_type": "code",
   "execution_count": 15,
   "metadata": {},
   "outputs": [],
   "source": [
    "statistic_1, pvalue_1 = stats.ttest_ind(low_life_expectancy['Life expectancy '], high_life_expectancy['Life expectancy '], equal_var=False)"
   ]
  },
  {
   "cell_type": "code",
   "execution_count": 16,
   "metadata": {},
   "outputs": [
    {
     "data": {
      "text/plain": [
       "-19.9674870394773"
      ]
     },
     "execution_count": 16,
     "metadata": {},
     "output_type": "execute_result"
    }
   ],
   "source": [
    "statistic_1"
   ]
  },
  {
   "cell_type": "code",
   "execution_count": 17,
   "metadata": {},
   "outputs": [
    {
     "data": {
      "text/plain": [
       "3.535032394002748e-34"
      ]
     },
     "execution_count": 17,
     "metadata": {},
     "output_type": "execute_result"
    }
   ],
   "source": [
    "pvalue_1"
   ]
  },
  {
   "cell_type": "markdown",
   "metadata": {},
   "source": [
    "This p-value is much smaller than our alpha, so we can reject the null hypothesis and conclude that the average years of schooling is not the same for low and high life expectancy countries"
   ]
  },
  {
   "cell_type": "code",
   "execution_count": null,
   "metadata": {},
   "outputs": [],
   "source": []
  }
 ],
 "metadata": {
  "kernelspec": {
   "display_name": "Python 3 (illumidesk-env)",
   "language": "python",
   "name": "illumidesk-env"
  },
  "language_info": {
   "codemirror_mode": {
    "name": "ipython",
    "version": 3
   },
   "file_extension": ".py",
   "mimetype": "text/x-python",
   "name": "python",
   "nbconvert_exporter": "python",
   "pygments_lexer": "ipython3",
   "version": "3.8.5"
  }
 },
 "nbformat": 4,
 "nbformat_minor": 4
}
